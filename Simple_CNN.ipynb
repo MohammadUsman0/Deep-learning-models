{
  "nbformat": 4,
  "nbformat_minor": 0,
  "metadata": {
    "colab": {
      "name": "Simple CNN.ipynb",
      "provenance": [],
      "authorship_tag": "ABX9TyNk9URG/+w860iNNo1y3T2K",
      "include_colab_link": true
    },
    "kernelspec": {
      "name": "python3",
      "display_name": "Python 3"
    },
    "language_info": {
      "name": "python"
    }
  },
  "cells": [
    {
      "cell_type": "markdown",
      "metadata": {
        "id": "view-in-github",
        "colab_type": "text"
      },
      "source": [
        "<a href=\"https://colab.research.google.com/github/MohammadUsman0/Deep-learning-models/blob/main/Simple_CNN.ipynb\" target=\"_parent\"><img src=\"https://colab.research.google.com/assets/colab-badge.svg\" alt=\"Open In Colab\"/></a>"
      ]
    },
    {
      "cell_type": "markdown",
      "metadata": {
        "id": "aubBQQ9MABwo"
      },
      "source": [
        "# Simple CNN\n",
        "A simple Convolutional Neural Network (CNN) for image classification on MNIST Dataset\n",
        "\n",
        "\n"
      ]
    },
    {
      "cell_type": "markdown",
      "metadata": {
        "id": "saGK98Tn_RZh"
      },
      "source": [
        "## 1. Import libraries and modules"
      ]
    },
    {
      "cell_type": "code",
      "metadata": {
        "id": "gq_VeyHU_ODZ"
      },
      "source": [
        "import numpy as np\n",
        "from tensorflow import keras\n",
        "from tensorflow.keras import layers\n",
        "import numpy as np\n",
        "np.random.seed(123)  # for reproducibility\n",
        "from keras.utils import np_utils                                                    \n",
        "from keras.datasets import mnist\n",
        "import matplotlib.pyplot as plt\n"
      ],
      "execution_count": 60,
      "outputs": []
    },
    {
      "cell_type": "markdown",
      "metadata": {
        "id": "tkvyvLww_azR"
      },
      "source": [
        "## 2. Load MNIST data into train and test sets\n",
        "* **MNIST** database of handwritten digits: Dataset of 60,000 28x28 grayscale images of the 10 digits, along with a test set of 10,000 images.\n",
        "* **x**:       Numpy array of training data (if the model has a single input), or list of Numpy arrays (if the model has multiple inputs).\n",
        "* **y**:       Numpy array of target (label) data (if the model has a single output), or list of Numpy arrays (if the model has multiple outputs)"
      ]
    },
    {
      "cell_type": "code",
      "metadata": {
        "id": "w4njpXac_YdR"
      },
      "source": [
        "(x_train, y_train), (x_test, y_test) = keras.datasets.mnist.load_data()"
      ],
      "execution_count": 61,
      "outputs": []
    },
    {
      "cell_type": "code",
      "metadata": {
        "colab": {
          "base_uri": "https://localhost:8080/",
          "height": 268
        },
        "id": "ousLyfpBU6Ew",
        "outputId": "d4f603a6-42de-419d-b9a3-4f67de3f5473"
      },
      "source": [
        "#plot some images from training data\n",
        "for i in range(9):\n",
        "\t# define subplot\n",
        "\tplt.subplot(330 + 1 + i)\n",
        "\t# plot raw pixel data\n",
        "\tplt.imshow(x_train[i], cmap=plt.get_cmap('gray'))\n",
        "# show the figure\n",
        "plt.show()"
      ],
      "execution_count": 63,
      "outputs": [
        {
          "output_type": "display_data",
          "data": {
            "image/png": "[encoded data removed]",
            "text/plain": [
              "<Figure size 432x288 with 9 Axes>"
            ]
          },
          "metadata": {
            "tags": [],
            "needs_background": "light"
          }
        }
      ]
    },
    {
      "cell_type": "markdown",
      "metadata": {
        "id": "nZXbp-uH_dxD"
      },
      "source": [
        "## 3. Preprocess input data"
      ]
    },
    {
      "cell_type": "code",
      "metadata": {
        "colab": {
          "base_uri": "https://localhost:8080/"
        },
        "id": "i5EEMCYc_eKJ",
        "outputId": "00384be3-b0a2-48f1-804d-3f684105e1b1"
      },
      "source": [
        "X_train = X_train.astype('float32')\n",
        "X_test = X_test.astype('float32')\n",
        "# Scale images between [0, 1] range\n",
        "X_train /= 255\n",
        "X_test /= 255\n",
        "# Make sure images have shape (28, 28, 1)\n",
        "x_train = np.expand_dims(x_train, -1)\n",
        "x_test = np.expand_dims(x_test, -1)\n",
        "print(\"x_train shape:\", x_train.shape)\n",
        "print(x_train.shape[0], \"train samples\")\n",
        "print(x_test.shape[0], \"test samples\")"
      ],
      "execution_count": 40,
      "outputs": [
        {
          "output_type": "stream",
          "text": [
            "x_train shape: (60000, 28, 28, 1)\n",
            "60000 train samples\n",
            "10000 test samples\n"
          ],
          "name": "stdout"
        }
      ]
    },
    {
      "cell_type": "markdown",
      "metadata": {
        "id": "mtbudQ4K_jgq"
      },
      "source": [
        "## 4. Preprocess class labels\n"
      ]
    },
    {
      "cell_type": "code",
      "metadata": {
        "id": "tkvZM-ly_joT"
      },
      "source": [
        "# convert class vectors to binary class matrices\n",
        "y_train = keras.utils.to_categorical(y_train, 10)\n",
        "y_test = keras.utils.to_categorical(y_test, 10)"
      ],
      "execution_count": 41,
      "outputs": []
    },
    {
      "cell_type": "markdown",
      "metadata": {
        "id": "0n1irGy8_ogy"
      },
      "source": [
        "## 5. Define model architecture\n",
        "* **Softmax** converts a real vector to a vector of categorical probabilities.\n",
        "* **Dropout** consists in randomly setting a fraction rate of input units to 0 at each update during training time, which helps prevent overfitting.\n",
        "* **Convolution2D** layer creates a convolution kernel that is convolved with the layer input to produce a tensor of outputs\n",
        "* **MaxPooling2D** Downsamples the input representation by taking the maximum value over the window defined\n",
        "\n",
        "for better understanding visit [Keras layers](https://keras.io/api/layers/)"
      ]
    },
    {
      "cell_type": "code",
      "metadata": {
        "colab": {
          "base_uri": "https://localhost:8080/"
        },
        "id": "mJvx8vMA_o3i",
        "outputId": "b4cf44f5-5e90-443e-9a8e-28c3593a98b3"
      },
      "source": [
        "model = keras.Sequential(\n",
        "    [\n",
        "        keras.Input(shape=(28, 28, 1)),\n",
        "        layers.Convolution2D(32, kernel_size=(3, 3), activation=\"relu\"), #32 is number of filters or kernel of size 3x3\n",
        "        layers.MaxPooling2D(pool_size=(2, 2)),\n",
        "        layers.Convolution2D(64, kernel_size=(3, 3), activation=\"relu\"), #64 is number of filters or kernel of size 3x3\n",
        "        layers.MaxPooling2D(pool_size=(2, 2)),\n",
        "        layers.Flatten(),\n",
        "        layers.Dropout(0.5),\n",
        "        layers.Dense(10, activation=\"softmax\"),\n",
        "    ]\n",
        ")\n",
        "\n",
        "model.summary()\n"
      ],
      "execution_count": 42,
      "outputs": [
        {
          "output_type": "stream",
          "text": [
            "Model: \"sequential_2\"\n",
            "_________________________________________________________________\n",
            "Layer (type)                 Output Shape              Param #   \n",
            "=================================================================\n",
            "conv2d_4 (Conv2D)            (None, 26, 26, 32)        320       \n",
            "_________________________________________________________________\n",
            "max_pooling2d_4 (MaxPooling2 (None, 13, 13, 32)        0         \n",
            "_________________________________________________________________\n",
            "conv2d_5 (Conv2D)            (None, 11, 11, 64)        18496     \n",
            "_________________________________________________________________\n",
            "max_pooling2d_5 (MaxPooling2 (None, 5, 5, 64)          0         \n",
            "_________________________________________________________________\n",
            "flatten_2 (Flatten)          (None, 1600)              0         \n",
            "_________________________________________________________________\n",
            "dropout_2 (Dropout)          (None, 1600)              0         \n",
            "_________________________________________________________________\n",
            "dense_2 (Dense)              (None, 10)                16010     \n",
            "=================================================================\n",
            "Total params: 34,826\n",
            "Trainable params: 34,826\n",
            "Non-trainable params: 0\n",
            "_________________________________________________________________\n"
          ],
          "name": "stdout"
        }
      ]
    },
    {
      "cell_type": "markdown",
      "metadata": {
        "id": "5APDDXyD_uFa"
      },
      "source": [
        "## 6. Compile model\n",
        "* **compile**:     Configures the model for training.\n",
        "* **loss**:        String (name of objective function) or objective function"
      ]
    },
    {
      "cell_type": "code",
      "metadata": {
        "id": "oXtfGx8-_uLd"
      },
      "source": [
        "\n",
        "model.compile(loss=\"categorical_crossentropy\", optimizer=\"adam\", metrics=[\"accuracy\"])"
      ],
      "execution_count": 43,
      "outputs": []
    },
    {
      "cell_type": "markdown",
      "metadata": {
        "id": "WUSGVGjY_yzT"
      },
      "source": [
        "## 7. Fit model on training data\n",
        "* **fit**:     Trains the model for a given number of epochs (iterations on a dataset).\n",
        "* **verbose**: Integer. 0, 1, or 2. Verbosity mode. 0 = silent, 1 = progress bar, 2 = one line per epoch.\n",
        "* **epochs**:  Integer. Number of epochs to train the model. An epoch is an iteration over the entire x and y data provided.\n",
        "* **batch_size**:  Integer or None. Number of samples per gradient update. If unspecified, batch_size will default to 32."
      ]
    },
    {
      "cell_type": "code",
      "metadata": {
        "colab": {
          "base_uri": "https://localhost:8080/"
        },
        "id": "ScuabeY-K3G6",
        "outputId": "86a0e674-e456-4a8f-824f-bcfbf1aa3f86"
      },
      "source": [
        "batch_size = 128\n",
        "epochs = 50\n",
        "\n",
        "history=model.fit(x_train, y_train, batch_size=batch_size, epochs=epochs, validation_split=0.1)\n",
        "\n",
        "#To save model uncomment below line\n",
        "#model.save('final_model.h5')"
      ],
      "execution_count": 44,
      "outputs": [
        {
          "output_type": "stream",
          "text": [
            "Epoch 1/5\n",
            "422/422 [==============================] - 37s 87ms/step - loss: 3.0284 - accuracy: 0.7402 - val_loss: 0.0814 - val_accuracy: 0.9748\n",
            "Epoch 2/5\n",
            "422/422 [==============================] - 36s 86ms/step - loss: 0.1708 - accuracy: 0.9481 - val_loss: 0.0557 - val_accuracy: 0.9837\n",
            "Epoch 3/5\n",
            "422/422 [==============================] - 37s 87ms/step - loss: 0.1165 - accuracy: 0.9630 - val_loss: 0.0483 - val_accuracy: 0.9867\n",
            "Epoch 4/5\n",
            "422/422 [==============================] - 37s 87ms/step - loss: 0.0964 - accuracy: 0.9701 - val_loss: 0.0443 - val_accuracy: 0.9882\n",
            "Epoch 5/5\n",
            "422/422 [==============================] - 37s 87ms/step - loss: 0.0892 - accuracy: 0.9723 - val_loss: 0.0434 - val_accuracy: 0.9868\n"
          ],
          "name": "stdout"
        }
      ]
    },
    {
      "cell_type": "code",
      "metadata": {
        "colab": {
          "base_uri": "https://localhost:8080/"
        },
        "id": "0RX9PF2CX1Yg",
        "outputId": "ecedbe88-a9b8-4ab5-f1f9-3f63a1a17771"
      },
      "source": [
        "# list all data in history\n",
        "print(history.history.keys())"
      ],
      "execution_count": 48,
      "outputs": [
        {
          "output_type": "stream",
          "text": [
            "dict_keys(['loss', 'accuracy', 'val_loss', 'val_accuracy'])\n"
          ],
          "name": "stdout"
        }
      ]
    },
    {
      "cell_type": "code",
      "metadata": {
        "colab": {
          "base_uri": "https://localhost:8080/",
          "height": 545
        },
        "id": "2u81-uumVzuZ",
        "outputId": "c6c2faab-f084-4226-9f25-ae7b93fa3828"
      },
      "source": [
        "    #plot model Accuracy and loss on training and validation data\n",
        "    acc = history.history['accuracy']\n",
        "    val_acc = history.history['val_accuracy']\n",
        "    loss = history.history['loss']\n",
        "    val_loss = history.history['val_loss']\n",
        "\n",
        "    epochs = range(1, len(acc) + 1)\n",
        "\n",
        "    plt.plot(epochs, acc, 'b', color='green', label='Training acc')\n",
        "    plt.plot(epochs, val_acc, 'b', color='red',  label='Validation acc')\n",
        "    plt.title('Training and validation accuracy')\n",
        "    plt.legend()\n",
        "    plt.show()\n",
        "\n",
        "    plt.plot(epochs, loss, 'b', color='green', label='Training loss')\n",
        "    plt.plot(epochs, val_loss, 'b', color='red', label='Validation loss')\n",
        "    plt.title('Training and validation loss')\n",
        "    plt.legend()\n",
        "    plt.show()"
      ],
      "execution_count": 55,
      "outputs": [
        {
          "output_type": "display_data",
          "data": {
            "image/png": "[encoded data removed]",
            "text/plain": [
              "<Figure size 432x288 with 1 Axes>"
            ]
          },
          "metadata": {
            "tags": [],
            "needs_background": "light"
          }
        },
        {
          "output_type": "display_data",
          "data": {
            "image/png": "[encoded data removed]",
            "text/plain": [
              "<Figure size 432x288 with 1 Axes>"
            ]
          },
          "metadata": {
            "tags": [],
            "needs_background": "light"
          }
        }
      ]
    },
    {
      "cell_type": "markdown",
      "metadata": {
        "id": "BnGajQTq_6kT"
      },
      "source": [
        "8. Evaluate model on test data\n",
        "* **evaluate**:    Returns the loss value & metrics values for the model in test mode."
      ]
    },
    {
      "cell_type": "code",
      "metadata": {
        "colab": {
          "base_uri": "https://localhost:8080/"
        },
        "id": "ojyU_PY1_6pr",
        "outputId": "c4cda5f4-5cbf-4ae8-ef3c-49ed53f68b18"
      },
      "source": [
        "score = model.evaluate(x_test, y_test, verbose=0)    \n",
        "print(\"Test loss:\", score[0])\n",
        "print(\"Test accuracy:\", score[1])              "
      ],
      "execution_count": 56,
      "outputs": [
        {
          "output_type": "stream",
          "text": [
            "Test loss: 0.04975337162613869\n",
            "Test accuracy: 0.9835000038146973\n"
          ],
          "name": "stdout"
        }
      ]
    }
  ]
}